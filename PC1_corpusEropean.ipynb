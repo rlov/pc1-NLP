{
  "nbformat": 4,
  "nbformat_minor": 0,
  "metadata": {
    "colab": {
      "provenance": []
    },
    "kernelspec": {
      "name": "python3",
      "display_name": "Python 3"
    },
    "language_info": {
      "name": "python"
    }
  },
  "cells": [
    {
      "cell_type": "markdown",
      "source": [
        "Corpus Europarl"
      ],
      "metadata": {
        "id": "hrdZ1GVwAYoj"
      }
    },
    {
      "cell_type": "markdown",
      "source": [
        "sin suavizacion:"
      ],
      "metadata": {
        "id": "jKlpUO399Yw9"
      }
    },
    {
      "cell_type": "code",
      "source": [
        "import nltk\n",
        "from nltk.corpus import europarl_raw\n",
        "from collections import defaultdict, Counter\n",
        "import random\n",
        "\n",
        "nltk.download('europarl_raw')\n",
        "\n",
        "europarl_sentences = europarl_raw.english.sents()\n",
        "\n",
        "def preprocess_sentences(sentences):\n",
        "    preprocessed = []\n",
        "    for sentence in sentences:\n",
        "        sentence = [word.lower() for word in sentence if word.isalpha()]\n",
        "        preprocessed.append(sentence)\n",
        "    return preprocessed\n",
        "\n",
        "preprocessed_sentences = preprocess_sentences(europarl_sentences)\n",
        "\n",
        "def generate_ngrams(sentence, n):\n",
        "    ngrams = zip(*[sentence[i:] for i in range(n)])\n",
        "    return list(ngrams)\n",
        "\n",
        "class SimpleNgramModel:\n",
        "    def __init__(self, sentences, n):\n",
        "        self.n = n\n",
        "        self.ngram_counts = defaultdict(Counter)\n",
        "        self.unigram_counts = Counter()\n",
        "\n",
        "        for sentence in sentences:\n",
        "            sentence = ['<s>'] * (n - 1) + sentence + ['</s>']\n",
        "            for i in range(1, n + 1):\n",
        "                ngrams = generate_ngrams(sentence, i)\n",
        "                for ngram in ngrams:\n",
        "                    self.ngram_counts[i][ngram] += 1\n",
        "                    if i == 1:\n",
        "                        self.unigram_counts[ngram] += 1\n",
        "\n",
        "    def get_probability(self, ngram):\n",
        "        count_ngram = self.ngram_counts[len(ngram)][ngram]\n",
        "\n",
        "        if len(ngram) == 1:\n",
        "            total_count = sum(self.unigram_counts.values())\n",
        "        else:\n",
        "            total_count = sum(self.ngram_counts[len(ngram) - 1][ngram[:-1]] for ngram in self.ngram_counts[len(ngram) - 1])\n",
        "\n",
        "        if total_count > 0:\n",
        "            return count_ngram / total_count\n",
        "        else:\n",
        "            return 0\n",
        "\n",
        "    def generate_text(self, num_words=20):\n",
        "        generated_sentence = ['<s>'] * (self.n - 1)\n",
        "        for _ in range(num_words):\n",
        "            next_word_candidates = []\n",
        "            for ngram in self.ngram_counts[self.n]:\n",
        "                if ngram[:-1] == tuple(generated_sentence[-(self.n - 1):]):\n",
        "                    next_word_candidates.append((ngram[-1], self.get_probability(ngram)))\n",
        "\n",
        "            next_word_candidates.sort(key=lambda x: x[1], reverse=True)\n",
        "            next_word = next_word_candidates[0][0] if next_word_candidates else '</s>'\n",
        "\n",
        "            if next_word == '</s>':\n",
        "                break\n",
        "            generated_sentence.append(next_word)\n",
        "\n",
        "        return \" \".join(generated_sentence[self.n - 1:])\n",
        "\n",
        "\n",
        "n = 3\n",
        "simple_model = SimpleNgramModel(preprocessed_sentences[:50000], n)\n",
        "\n",
        "simple_generated_text = simple_model.generate_text(num_words=30)\n",
        "print(\"Texto generado sin suavización:\")\n",
        "print(simple_generated_text)\n"
      ],
      "metadata": {
        "colab": {
          "base_uri": "https://localhost:8080/"
        },
        "id": "JUmkEhh03NNl",
        "outputId": "c1e6f3fd-d0d2-4d48-fa1a-db44068fb917"
      },
      "execution_count": 12,
      "outputs": [
        {
          "output_type": "stream",
          "name": "stderr",
          "text": [
            "[nltk_data] Downloading package europarl_raw to /root/nltk_data...\n",
            "[nltk_data]   Package europarl_raw is already up-to-date!\n"
          ]
        },
        {
          "output_type": "stream",
          "name": "stdout",
          "text": [
            "Texto generado sin suavización:\n",
            "the commission s proposal to amend the directive\n"
          ]
        }
      ]
    },
    {
      "cell_type": "code",
      "source": [
        "def sequence_probability(model, sequence):\n",
        "    ngrams = generate_ngrams(sequence, model.n)\n",
        "    total_prob = 1.0\n",
        "    for ngram in ngrams:\n",
        "        prob = model.get_probability(ngram)\n",
        "        total_prob *= prob if prob > 0 else 1e-10\n",
        "    return total_prob"
      ],
      "metadata": {
        "id": "UemddDz__vFU"
      },
      "execution_count": 13,
      "outputs": []
    },
    {
      "cell_type": "markdown",
      "source": [
        "Suavización de interpolacion"
      ],
      "metadata": {
        "id": "UGv6a69h_gDD"
      }
    },
    {
      "cell_type": "code",
      "source": [
        "import nltk\n",
        "from nltk.corpus import europarl_raw\n",
        "from collections import defaultdict, Counter\n",
        "import random\n",
        "\n",
        "nltk.download('europarl_raw')\n",
        "\n",
        "europarl_sentences = europarl_raw.english.sents()\n",
        "\n",
        "def preprocess_sentences(sentences):\n",
        "    preprocessed = []\n",
        "    for sentence in sentences:\n",
        "        sentence = [word.lower() for word in sentence if word.isalpha()]\n",
        "        preprocessed.append(sentence)\n",
        "    return preprocessed\n",
        "\n",
        "preprocessed_sentences = preprocess_sentences(europarl_sentences)\n",
        "\n",
        "def generate_ngrams(sentence, n):\n",
        "    ngrams = zip(*[sentence[i:] for i in range(n)])\n",
        "    return list(ngrams)\n",
        "\n",
        "class InterpolatedNgramModel:\n",
        "    def __init__(self, sentences, n, lambdas=None):\n",
        "        self.n = n\n",
        "        self.lambdas = lambdas if lambdas else [1/n] * n\n",
        "        self.ngram_counts = defaultdict(Counter)\n",
        "        self.unigram_counts = Counter()\n",
        "\n",
        "        for sentence in sentences:\n",
        "            sentence = ['<s>'] * (n - 1) + sentence + ['</s>']\n",
        "            for i in range(1, n + 1):\n",
        "                ngrams = generate_ngrams(sentence, i)\n",
        "                for ngram in ngrams:\n",
        "                    self.ngram_counts[i][ngram] += 1\n",
        "                    if i == 1:\n",
        "                        self.unigram_counts[ngram] += 1\n",
        "\n",
        "    def get_probability(self, ngram):\n",
        "        total_prob = 0\n",
        "        for i in range(1, len(ngram) + 1):\n",
        "            lambda_weight = self.lambdas[i - 1]\n",
        "            prefix = tuple(ngram[-i:])\n",
        "            if i == 1:\n",
        "                count_ngram = self.unigram_counts[prefix]\n",
        "                total_count = sum(self.unigram_counts.values())\n",
        "            else:\n",
        "                count_ngram = self.ngram_counts[i][prefix]\n",
        "                total_count = sum(self.ngram_counts[i-1][prefix[:-1]] for prefix in self.ngram_counts[i-1])\n",
        "\n",
        "            prob_ngram = count_ngram / total_count if total_count > 0 else 0\n",
        "            total_prob += lambda_weight * prob_ngram\n",
        "        return total_prob\n",
        "\n",
        "    def generate_text(self, num_words=20):\n",
        "        generated_sentence = ['<s>'] * (self.n - 1)\n",
        "        for _ in range(num_words):\n",
        "            next_word_candidates = []\n",
        "            for ngram in self.ngram_counts[self.n]:\n",
        "                if ngram[:-1] == tuple(generated_sentence[-(self.n - 1):]):\n",
        "                    next_word_candidates.append((ngram[-1], self.get_probability(ngram)))\n",
        "\n",
        "            next_word_candidates.sort(key=lambda x: x[1], reverse=True)\n",
        "            next_word = next_word_candidates[0][0] if next_word_candidates else '</s>'\n",
        "\n",
        "            if next_word == '</s>':\n",
        "                break\n",
        "            generated_sentence.append(next_word)\n",
        "\n",
        "        return \" \".join(generated_sentence[self.n - 1:])\n",
        "\n",
        "n = 3\n",
        "model = InterpolatedNgramModel(preprocessed_sentences[:50000], n, lambdas=[0.1, 0.3, 0.6])\n",
        "\n",
        "generated_text = model.generate_text(num_words=30)\n",
        "print(\"Texto generado:\")\n",
        "print(generated_text)\n"
      ],
      "metadata": {
        "colab": {
          "base_uri": "https://localhost:8080/"
        },
        "id": "cd5bGEzOuGCR",
        "outputId": "72730cff-4b66-475a-fa49-b907384d9e80"
      },
      "execution_count": 14,
      "outputs": [
        {
          "output_type": "stream",
          "name": "stderr",
          "text": [
            "[nltk_data] Downloading package europarl_raw to /root/nltk_data...\n",
            "[nltk_data]   Package europarl_raw is already up-to-date!\n"
          ]
        },
        {
          "output_type": "stream",
          "name": "stdout",
          "text": [
            "Texto generado:\n",
            "the of the the commission the for the of the the commission the for the of the the commission the for the of the the commission the for the of\n"
          ]
        }
      ]
    },
    {
      "cell_type": "code",
      "source": [
        "import matplotlib.pyplot as plt\n",
        "\n",
        "test_sequence = ['the', 'european', 'parliament', 'is', 'important']\n",
        "\n",
        "interpolated_prob = sequence_probability(model, test_sequence)\n",
        "\n",
        "simple_prob = sequence_probability(simple_model, test_sequence)\n",
        "\n",
        "models = ['Con Suavización (Interpolación)', 'Sin Suavización']\n",
        "probabilities = [interpolated_prob, simple_prob]\n",
        "print(f\"Las probabilidades son: {probabilities}\")\n",
        "plt.bar(models, probabilities, color=['blue', 'green'])\n",
        "plt.title('Comparación de Probabilidades de Secuencia entre Modelos')\n",
        "plt.ylabel('Probabilidad')\n",
        "plt.show()"
      ],
      "metadata": {
        "colab": {
          "base_uri": "https://localhost:8080/",
          "height": 485
        },
        "id": "jj1oAD5u_02O",
        "outputId": "302002bb-f48e-42ee-e910-cc2ee09f1d30"
      },
      "execution_count": 15,
      "outputs": [
        {
          "output_type": "stream",
          "name": "stdout",
          "text": [
            "Las probabilidades son: [4.998163050349343e-11, 4.6497153861473555e-24]\n"
          ]
        },
        {
          "output_type": "display_data",
          "data": {
            "text/plain": [
              "<Figure size 640x480 with 1 Axes>"
            ],
            "image/png": "[encoded data removed]"
          },
          "metadata": {}
        }
      ]
    },
    {
      "cell_type": "markdown",
      "source": [
        "Suavizado Backoff"
      ],
      "metadata": {
        "id": "Cf_se9hQ_ind"
      }
    },
    {
      "cell_type": "code",
      "source": [
        "import nltk\n",
        "from nltk.corpus import europarl_raw\n",
        "from collections import defaultdict, Counter\n",
        "import random\n",
        "\n",
        "nltk.download('europarl_raw')\n",
        "\n",
        "europarl_sentences = europarl_raw.english.sents()\n",
        "\n",
        "def preprocess_sentences(sentences):\n",
        "    preprocessed = []\n",
        "    for sentence in sentences:\n",
        "        sentence = [word.lower() for word in sentence if word.isalpha()]\n",
        "        preprocessed.append(sentence)\n",
        "    return preprocessed\n",
        "\n",
        "preprocessed_sentences = preprocess_sentences(europarl_sentences)\n",
        "\n",
        "def generate_ngrams(sentence, n):\n",
        "    ngrams = zip(*[sentence[i:] for i in range(n)])\n",
        "    return list(ngrams)\n",
        "\n",
        "class BackoffNgramModel:\n",
        "    def __init__(self, sentences, n):\n",
        "        self.n = n\n",
        "        self.ngram_counts = defaultdict(Counter)\n",
        "        self.unigram_counts = Counter()\n",
        "\n",
        "        for sentence in sentences:\n",
        "            sentence = ['<s>'] * (n - 1) + sentence + ['</s>']\n",
        "            for i in range(1, n + 1):\n",
        "                ngrams = generate_ngrams(sentence, i)\n",
        "                for ngram in ngrams:\n",
        "                    self.ngram_counts[i][ngram] += 1\n",
        "                    if i == 1:\n",
        "                        self.unigram_counts[ngram] += 1\n",
        "\n",
        "    def get_probability(self, ngram):\n",
        "        for i in range(len(ngram), 0, -1):\n",
        "            prefix = tuple(ngram[-i:])\n",
        "            count_ngram = self.ngram_counts[i][prefix]\n",
        "\n",
        "            if i > 1:\n",
        "                total_count = sum(self.ngram_counts[i-1][prefix[:-1]] for prefix in self.ngram_counts[i-1])\n",
        "            else:\n",
        "                total_count = sum(self.unigram_counts.values())\n",
        "\n",
        "            if count_ngram > 0 and total_count > 0:\n",
        "                return count_ngram / total_count\n",
        "\n",
        "        return 1e-7\n",
        "\n",
        "    def generate_text(self, num_words=20):\n",
        "        generated_sentence = ['<s>'] * (self.n - 1)\n",
        "        for _ in range(num_words):\n",
        "            next_word_candidates = []\n",
        "            for ngram in self.ngram_counts[self.n]:\n",
        "                if ngram[:-1] == tuple(generated_sentence[-(self.n - 1):]):\n",
        "                    next_word_candidates.append((ngram[-1], self.get_probability(ngram)))\n",
        "\n",
        "            next_word_candidates.sort(key=lambda x: x[1], reverse=True)\n",
        "            next_word = next_word_candidates[0][0] if next_word_candidates else '</s>'\n",
        "\n",
        "            if next_word == '</s>':\n",
        "                break\n",
        "            generated_sentence.append(next_word)\n",
        "\n",
        "        return \" \".join(generated_sentence[self.n - 1:])\n",
        "\n",
        "n = 3\n",
        "model = BackoffNgramModel(preprocessed_sentences[:50000], n)\n",
        "\n",
        "generated_text = model.generate_text(num_words=30)\n",
        "print(\"Texto generado:\")\n",
        "print(generated_text)\n"
      ],
      "metadata": {
        "colab": {
          "base_uri": "https://localhost:8080/"
        },
        "id": "UQ0hqP09wjzU",
        "outputId": "996177f2-3b74-4a35-e196-32dd086599e4"
      },
      "execution_count": null,
      "outputs": [
        {
          "output_type": "stream",
          "name": "stderr",
          "text": [
            "[nltk_data] Downloading package europarl_raw to /root/nltk_data...\n",
            "[nltk_data]   Package europarl_raw is already up-to-date!\n"
          ]
        }
      ]
    },
    {
      "cell_type": "code",
      "source": [
        "import matplotlib.pyplot as plt\n",
        "\n",
        "test_sequence = ['the', 'european', 'parliament', 'is', 'important']\n",
        "\n",
        "interpolated_prob = sequence_probability(model, test_sequence)\n",
        "\n",
        "simple_prob = sequence_probability(simple_model, test_sequence)\n",
        "\n",
        "models = ['Con Suavización (Backoff)', 'Sin Suavización']\n",
        "probabilities = [interpolated_prob, simple_prob]\n",
        "print(f\"Las probabilidades son: {probabilities}\")\n",
        "plt.bar(models, probabilities, color=['blue', 'green'])\n",
        "plt.title('Comparación de Probabilidades de Secuencia entre Modelos')\n",
        "plt.ylabel('Probabilidad')\n",
        "plt.show()"
      ],
      "metadata": {
        "id": "l0uAmtCF_16W"
      },
      "execution_count": null,
      "outputs": []
    }
  ]
}